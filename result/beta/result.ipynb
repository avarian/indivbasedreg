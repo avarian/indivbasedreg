{
 "cells": [
  {
   "cell_type": "code",
   "execution_count": 1,
   "metadata": {},
   "outputs": [],
   "source": [
    "import numpy as np\n",
    "import pandas as pd"
   ]
  },
  {
   "cell_type": "code",
   "execution_count": 2,
   "metadata": {},
   "outputs": [],
   "source": [
    "rmse1=np.load('a001b10/rmse_test2.npy')\n",
    "rmse2=np.load('a001b1/rmse_test2.npy')\n",
    "rmse3=np.load('a001b01/rmse_test2.npy')\n",
    "rmse4=np.load('a001b001/rmse_test2.npy')"
   ]
  },
  {
   "cell_type": "code",
   "execution_count": 3,
   "metadata": {},
   "outputs": [
    {
     "data": {
      "text/plain": [
       "array([1.51069679, 1.48128159])"
      ]
     },
     "execution_count": 3,
     "metadata": {},
     "output_type": "execute_result"
    }
   ],
   "source": [
    "rmse1"
   ]
  },
  {
   "cell_type": "code",
   "execution_count": 4,
   "metadata": {},
   "outputs": [
    {
     "data": {
      "text/plain": [
       "array([1.51351535, 1.41579022, 1.34129821, 1.28380203, 1.23906289,\n",
       "       1.20396977, 1.17619451, 1.15399612, 1.13607967, 1.12148705,\n",
       "       1.10951277, 1.09964095, 1.09149936, 1.08482731, 1.07945434,\n",
       "       1.07528764, 1.07230708, 1.07056713, 1.07020607])"
      ]
     },
     "execution_count": 4,
     "metadata": {},
     "output_type": "execute_result"
    }
   ],
   "source": [
    "rmse2"
   ]
  },
  {
   "cell_type": "code",
   "execution_count": 5,
   "metadata": {},
   "outputs": [
    {
     "data": {
      "text/plain": [
       "array([1.51909969, 1.42241175, 1.34795952, 1.29029203, 1.24531134,\n",
       "       1.20991389, 1.18176335, 1.15911411, 1.14066791, 1.12545983,\n",
       "       1.11277063, 1.10206135, 1.09292511, 1.08505223, 1.07820483,\n",
       "       1.0721985 , 1.06688894, 1.06216216, 1.05792729, 1.05411125,\n",
       "       1.05065475, 1.04750928, 1.04463483, 1.04199812, 1.03957132,\n",
       "       1.0373309 , 1.03525692, 1.03333231, 1.0315424 , 1.02987446,\n",
       "       1.02831746, 1.02686172, 1.02549873, 1.02422098, 1.02302181,\n",
       "       1.02189527, 1.02083606, 1.01983939, 1.01890096, 1.0180169 ,\n",
       "       1.01718366, 1.01639804, 1.01565712, 1.01495822, 1.01429888,\n",
       "       1.01367685, 1.01309006, 1.0125366 , 1.01201468, 1.01152267,\n",
       "       1.01105906, 1.01062242, 1.01021145, 1.00982491, 1.00946166,\n",
       "       1.00912064, 1.00880084, 1.00850133, 1.00822123, 1.00795971,\n",
       "       1.00771601, 1.00748939, 1.00727916, 1.00708469, 1.00690536,\n",
       "       1.00674061, 1.00658988, 1.00645267, 1.0063285 , 1.0062169 ,\n",
       "       1.00611745, 1.00602974, 1.00595338, 1.005888  , 1.00583326,\n",
       "       1.00578882, 1.00575438, 1.00572963, 1.00571431, 1.00570814])"
      ]
     },
     "execution_count": 5,
     "metadata": {},
     "output_type": "execute_result"
    }
   ],
   "source": [
    "rmse3"
   ]
  },
  {
   "cell_type": "code",
   "execution_count": 6,
   "metadata": {},
   "outputs": [
    {
     "data": {
      "text/plain": [
       "array([1.51990112, 1.42357907, 1.34937158, 1.29190357, 1.24709801,\n",
       "       1.21185645, 1.18384485, 1.16132013, 1.1429868 , 1.12788256,\n",
       "       1.11529035, 1.10467281, 1.09562423, 1.08783565, 1.08106965,\n",
       "       1.07514209, 1.0699088 , 1.06525588, 1.0610925 , 1.0573456 ,\n",
       "       1.05395594, 1.05087503, 1.04806291, 1.04548638, 1.04311765,\n",
       "       1.04093328, 1.03891339, 1.03704101, 1.03530152, 1.03368232,\n",
       "       1.03217242, 1.03076224, 1.02944335, 1.02820831, 1.02705052,\n",
       "       1.02596412, 1.02494384, 1.02398499, 1.02308331, 1.02223498,\n",
       "       1.0214365 , 1.02068473, 1.01997677, 1.01931   , 1.018682  ,\n",
       "       1.01809053, 1.01753358, 1.01700923, 1.01651576, 1.01605155,\n",
       "       1.01561509, 1.015205  , 1.01481997, 1.0144588 , 1.01412036,\n",
       "       1.01380359, 1.0135075 , 1.01323117, 1.01297372, 1.01273434,\n",
       "       1.01251226, 1.01230675, 1.01211713, 1.01194277, 1.01178304,\n",
       "       1.01163739, 1.01150525, 1.01138613, 1.01127953, 1.01118499,\n",
       "       1.01110208, 1.01103038, 1.01096949, 1.01091905, 1.01087868,\n",
       "       1.01084807, 1.01082687, 1.01081479, 1.01081153])"
      ]
     },
     "execution_count": 6,
     "metadata": {},
     "output_type": "execute_result"
    }
   ],
   "source": [
    "rmse4"
   ]
  },
  {
   "cell_type": "code",
   "execution_count": 7,
   "metadata": {},
   "outputs": [],
   "source": [
    "beta=[]\n",
    "beta.append(rmse1[len(rmse1)-1])\n",
    "beta.append(rmse2[len(rmse2)-1])\n",
    "beta.append(rmse3[len(rmse3)-1])\n",
    "beta.append(rmse4[len(rmse4)-1])"
   ]
  },
  {
   "cell_type": "code",
   "execution_count": 8,
   "metadata": {},
   "outputs": [
    {
     "data": {
      "text/plain": [
       "[1.481281593549322, 1.0702060734206662, 1.0057081378854749, 1.0108115296789288]"
      ]
     },
     "execution_count": 8,
     "metadata": {},
     "output_type": "execute_result"
    }
   ],
   "source": [
    "beta"
   ]
  },
  {
   "cell_type": "code",
   "execution_count": 31,
   "metadata": {},
   "outputs": [
    {
     "data": {
      "image/png": "[encoded data removed]",
      "text/plain": [
       "<Figure size 432x288 with 1 Axes>"
      ]
     },
     "metadata": {},
     "output_type": "display_data"
    }
   ],
   "source": [
    "import matplotlib.pyplot as plt\n",
    "x=['1', '0.1', '0.01', '0.001']\n",
    "plt.plot(x,beta, marker='o', linestyle='dashed')\n",
    "plt.suptitle('RMSE (α = 0,001)')\n",
    "plt.xlabel('β')\n",
    "plt.ylabel('RMSE')\n",
    "for a,b in zip(x, beta): \n",
    "    z = round(b, 5)\n",
    "    plt.text(a, b, str(z))\n",
    "plt.show()"
   ]
  },
  {
   "cell_type": "code",
   "execution_count": 26,
   "metadata": {},
   "outputs": [
    {
     "ename": "NameError",
     "evalue": "name 'plot' is not defined",
     "output_type": "error",
     "traceback": [
      "\u001b[1;31m---------------------------------------------------------------------------\u001b[0m",
      "\u001b[1;31mNameError\u001b[0m                                 Traceback (most recent call last)",
      "\u001b[1;32m<ipython-input-26-a3d0bff74aaf>\u001b[0m in \u001b[0;36m<module>\u001b[1;34m()\u001b[0m\n\u001b[1;32m----> 1\u001b[1;33m \u001b[0mplot\u001b[0m\u001b[1;33m(\u001b[0m\u001b[1;34m'xlabel'\u001b[0m\u001b[1;33m,\u001b[0m \u001b[1;34m'ylabel'\u001b[0m\u001b[1;33m)\u001b[0m\u001b[1;33m\u001b[0m\u001b[0m\n\u001b[0m",
      "\u001b[1;31mNameError\u001b[0m: name 'plot' is not defined"
     ]
    }
   ],
   "source": [
    "plot('xlabel', 'ylabel')"
   ]
  },
  {
   "cell_type": "code",
   "execution_count": null,
   "metadata": {},
   "outputs": [],
   "source": []
  }
 ],
 "metadata": {
  "kernelspec": {
   "display_name": "Python 3",
   "language": "python",
   "name": "python3"
  },
  "language_info": {
   "codemirror_mode": {
    "name": "ipython",
    "version": 3
   },
   "file_extension": ".py",
   "mimetype": "text/x-python",
   "name": "python",
   "nbconvert_exporter": "python",
   "pygments_lexer": "ipython3",
   "version": "3.6.5"
  }
 },
 "nbformat": 4,
 "nbformat_minor": 2
}
