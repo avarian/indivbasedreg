{
 "cells": [
  {
   "cell_type": "code",
   "execution_count": 1,
   "metadata": {},
   "outputs": [],
   "source": [
    "import numpy as np\n",
    "import pandas as pd"
   ]
  },
  {
   "cell_type": "code",
   "execution_count": 2,
   "metadata": {},
   "outputs": [],
   "source": [
    "rmsetrain1=np.load('rmse_train1.npy')\n",
    "rmsetest1=np.load('rmse_test1.npy')"
   ]
  },
  {
   "cell_type": "code",
   "execution_count": 3,
   "metadata": {},
   "outputs": [
    {
     "data": {
      "text/plain": [
       "array([1.0540756 , 0.94437597, 0.88941444, 0.85199327, 0.82330396,\n",
       "       0.79985176, 0.7798291 , 0.76216405, 0.7461687 , 0.73137951,\n",
       "       0.71747482, 0.70422805, 0.69147924, 0.67911666, 0.66706421,\n",
       "       0.6552724 , 0.6437115 , 0.63236625, 0.62123164, 0.6103095 ,\n",
       "       0.59960589, 0.58912899, 0.57888756, 0.56888986, 0.55914293,\n",
       "       0.54965221, 0.54042138, 0.53145231, 0.52274523, 0.51429883])"
      ]
     },
     "execution_count": 3,
     "metadata": {},
     "output_type": "execute_result"
    }
   ],
   "source": [
    "rmsetrain1"
   ]
  },
  {
   "cell_type": "code",
   "execution_count": 4,
   "metadata": {},
   "outputs": [
    {
     "data": {
      "text/plain": [
       "array([1.12395443, 1.05673864, 1.03375635, 1.02269428, 1.01685228,\n",
       "       1.01387005, 1.01265338, 1.01261618, 1.0134167 , 1.01484415,\n",
       "       1.01676304, 1.01908305, 1.0217417 , 1.02469375, 1.0279046 ,\n",
       "       1.03134598, 1.03499321, 1.03882346, 1.0428148 , 1.04694562,\n",
       "       1.05119454, 1.0555405 , 1.05996299, 1.06444232, 1.06895989,\n",
       "       1.07349847, 1.07804231, 1.08257724, 1.0870907 , 1.09157171])"
      ]
     },
     "execution_count": 4,
     "metadata": {},
     "output_type": "execute_result"
    }
   ],
   "source": [
    "rmsetest1"
   ]
  },
  {
   "cell_type": "code",
   "execution_count": 10,
   "metadata": {},
   "outputs": [
    {
     "data": {
      "image/png": "[encoded data removed]",
      "text/plain": [
       "<Figure size 432x288 with 1 Axes>"
      ]
     },
     "metadata": {},
     "output_type": "display_data"
    }
   ],
   "source": [
    "import matplotlib.pyplot as plt\n",
    "plt.plot(rmsetrain1, color='r')\n",
    "plt.plot(rmsetest1, color='b')\n",
    "plt.show()"
   ]
  },
  {
   "cell_type": "code",
   "execution_count": 11,
   "metadata": {},
   "outputs": [],
   "source": [
    "rmsetrain2=np.load('rmse_train2.npy')\n",
    "rmsetest2=np.load('rmse_test2.npy')"
   ]
  },
  {
   "cell_type": "code",
   "execution_count": 12,
   "metadata": {},
   "outputs": [
    {
     "data": {
      "text/plain": [
       "array([1.05085638, 0.94279982, 0.88898182, 0.8527416 , 0.82526521,\n",
       "       0.80302908, 0.78421174, 0.76773742, 0.75292001, 0.73930136,\n",
       "       0.72656773, 0.71450188, 0.70295277, 0.69181459, 0.68101206,\n",
       "       0.67049277, 0.6602288 , 0.65022394, 0.64050646, 0.63109253])"
      ]
     },
     "execution_count": 12,
     "metadata": {},
     "output_type": "execute_result"
    }
   ],
   "source": [
    "rmsetrain2"
   ]
  },
  {
   "cell_type": "code",
   "execution_count": 13,
   "metadata": {},
   "outputs": [
    {
     "data": {
      "text/plain": [
       "array([1.12017477, 1.05282205, 1.02920502, 1.01756514, 1.01122036,\n",
       "       1.00779195, 1.0061768 , 1.00578999, 1.00629927, 1.00751134,\n",
       "       1.00931668, 1.01166123, 1.01453222, 1.01795313, 1.02198579,\n",
       "       1.02673928, 1.03238482, 1.03917373, 1.0474527 , 1.05767304])"
      ]
     },
     "execution_count": 13,
     "metadata": {},
     "output_type": "execute_result"
    }
   ],
   "source": [
    "rmsetest2"
   ]
  },
  {
   "cell_type": "code",
   "execution_count": 14,
   "metadata": {},
   "outputs": [
    {
     "data": {
      "image/png": "[encoded data removed]",
      "text/plain": [
       "<Figure size 432x288 with 1 Axes>"
      ]
     },
     "metadata": {},
     "output_type": "display_data"
    }
   ],
   "source": [
    "import matplotlib.pyplot as plt\n",
    "plt.plot(rmsetrain2, color='r')\n",
    "plt.plot(rmsetest2, color='b')\n",
    "plt.show()"
   ]
  },
  {
   "cell_type": "code",
   "execution_count": null,
   "metadata": {},
   "outputs": [],
   "source": []
  },
  {
   "cell_type": "code",
   "execution_count": null,
   "metadata": {},
   "outputs": [],
   "source": []
  }
 ],
 "metadata": {
  "kernelspec": {
   "display_name": "Python 3",
   "language": "python",
   "name": "python3"
  },
  "language_info": {
   "codemirror_mode": {
    "name": "ipython",
    "version": 3
   },
   "file_extension": ".py",
   "mimetype": "text/x-python",
   "name": "python",
   "nbconvert_exporter": "python",
   "pygments_lexer": "ipython3",
   "version": "3.6.5"
  }
 },
 "nbformat": 4,
 "nbformat_minor": 2
}
